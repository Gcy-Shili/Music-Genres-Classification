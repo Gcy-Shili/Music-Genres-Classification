{
 "cells": [
  {
   "cell_type": "code",
   "execution_count": 1,
   "metadata": {},
   "outputs": [],
   "source": [
    "import os\n",
    "import librosa\n",
    "import librosa.display\n",
    "import torch\n",
    "import torchaudio\n",
    "import torch.nn as nn\n",
    "import torch.optim as optim\n",
    "from torch.utils.data import DataLoader, Dataset\n",
    "from torchvision import models, transforms\n",
    "import numpy as np\n",
    "import matplotlib.pyplot as plt\n",
    "from sklearn.model_selection import train_test_split\n",
    "from sklearn.metrics import confusion_matrix, classification_report"
   ]
  },
  {
   "cell_type": "code",
   "execution_count": 2,
   "metadata": {},
   "outputs": [],
   "source": [
    "def pad_or_trim_mel_spec(mel_spec, max_length):\n",
    "    # 获取当前梅尔谱图的时间维度长度\n",
    "    length = mel_spec.shape[1]\n",
    "    if length > max_length:\n",
    "        # 裁剪\n",
    "        mel_spec = mel_spec[:, :max_length]\n",
    "    elif length < max_length:\n",
    "        # 填充\n",
    "        padding = max_length - length\n",
    "        mel_spec = np.pad(mel_spec, ((0, 0), (0, padding)), mode='constant')\n",
    "    return mel_spec\n",
    "\n",
    "class GTZANDataset(Dataset):\n",
    "    def __init__(self, file_paths, labels, transform=None):\n",
    "        self.file_paths = file_paths\n",
    "        self.labels = labels\n",
    "        self.transform = transform\n",
    "\n",
    "    def __len__(self):\n",
    "        return len(self.file_paths)\n",
    "    \n",
    "    def __getitem__(self, index):\n",
    "        file_path = self.file_paths[index]\n",
    "        label = self.labels[index]\n",
    "\n",
    "        y, sr = librosa.load(file_path, sr=22050)\n",
    "        mel_spec = librosa.feature.melspectrogram(y=y, sr=sr, n_mels=128)\n",
    "        mel_spec = librosa.power_to_db(mel_spec, ref=np.max)\n",
    "        max_length = 1300\n",
    "        mel_spec = pad_or_trim_mel_spec(mel_spec, max_length)\n",
    "\n",
    "        if self.transform:\n",
    "            mel_spec = self.transform(mel_spec)\n",
    "        else:\n",
    "            mel_spec = torch.tensor(mel_spec).unsqueeze(0)\n",
    "\n",
    "        return mel_spec, label"
   ]
  },
  {
   "cell_type": "code",
   "execution_count": 3,
   "metadata": {},
   "outputs": [],
   "source": [
    "data_dir = './autodl-fs/Data/genres_original/'\n",
    "\n",
    "genres = os.listdir(data_dir)"
   ]
  },
  {
   "cell_type": "code",
   "execution_count": 4,
   "metadata": {},
   "outputs": [
    {
     "data": {
      "text/plain": [
       "['blues',\n",
       " 'classical',\n",
       " 'country',\n",
       " 'disco',\n",
       " 'hiphop',\n",
       " 'jazz',\n",
       " 'metal',\n",
       " 'pop',\n",
       " 'reggae',\n",
       " 'rock']"
      ]
     },
     "execution_count": 4,
     "metadata": {},
     "output_type": "execute_result"
    }
   ],
   "source": [
    "genres"
   ]
  },
  {
   "cell_type": "code",
   "execution_count": 5,
   "metadata": {
    "scrolled": true
   },
   "outputs": [
    {
     "name": "stdout",
     "output_type": "stream",
     "text": [
      "blues cnt: 100\n",
      "classical cnt: 100\n",
      "country cnt: 100\n",
      "disco cnt: 100\n",
      "hiphop cnt: 100\n",
      "jazz cnt: 99\n",
      "metal cnt: 100\n",
      "pop cnt: 100\n",
      "reggae cnt: 100\n",
      "rock cnt: 100\n",
      "['./autodl-fs/Data/genres_original/blues/blues.00000.wav', './autodl-fs/Data/genres_original/blues/blues.00001.wav', './autodl-fs/Data/genres_original/blues/blues.00002.wav', './autodl-fs/Data/genres_original/blues/blues.00003.wav', './autodl-fs/Data/genres_original/blues/blues.00004.wav', './autodl-fs/Data/genres_original/blues/blues.00005.wav', './autodl-fs/Data/genres_original/blues/blues.00006.wav', './autodl-fs/Data/genres_original/blues/blues.00007.wav', './autodl-fs/Data/genres_original/blues/blues.00008.wav', './autodl-fs/Data/genres_original/blues/blues.00009.wav', './autodl-fs/Data/genres_original/blues/blues.00010.wav', './autodl-fs/Data/genres_original/blues/blues.00011.wav', './autodl-fs/Data/genres_original/blues/blues.00012.wav', './autodl-fs/Data/genres_original/blues/blues.00013.wav', './autodl-fs/Data/genres_original/blues/blues.00014.wav', './autodl-fs/Data/genres_original/blues/blues.00015.wav', './autodl-fs/Data/genres_original/blues/blues.00016.wav', './autodl-fs/Data/genres_original/blues/blues.00017.wav', './autodl-fs/Data/genres_original/blues/blues.00018.wav', './autodl-fs/Data/genres_original/blues/blues.00019.wav', './autodl-fs/Data/genres_original/blues/blues.00020.wav', './autodl-fs/Data/genres_original/blues/blues.00021.wav', './autodl-fs/Data/genres_original/blues/blues.00022.wav', './autodl-fs/Data/genres_original/blues/blues.00023.wav', './autodl-fs/Data/genres_original/blues/blues.00024.wav', './autodl-fs/Data/genres_original/blues/blues.00025.wav', './autodl-fs/Data/genres_original/blues/blues.00026.wav', './autodl-fs/Data/genres_original/blues/blues.00027.wav', './autodl-fs/Data/genres_original/blues/blues.00028.wav', './autodl-fs/Data/genres_original/blues/blues.00029.wav', './autodl-fs/Data/genres_original/blues/blues.00030.wav', './autodl-fs/Data/genres_original/blues/blues.00031.wav', './autodl-fs/Data/genres_original/blues/blues.00032.wav', './autodl-fs/Data/genres_original/blues/blues.00033.wav', './autodl-fs/Data/genres_original/blues/blues.00034.wav', './autodl-fs/Data/genres_original/blues/blues.00035.wav', './autodl-fs/Data/genres_original/blues/blues.00036.wav', './autodl-fs/Data/genres_original/blues/blues.00037.wav', './autodl-fs/Data/genres_original/blues/blues.00038.wav', './autodl-fs/Data/genres_original/blues/blues.00039.wav', './autodl-fs/Data/genres_original/blues/blues.00040.wav', './autodl-fs/Data/genres_original/blues/blues.00041.wav', './autodl-fs/Data/genres_original/blues/blues.00042.wav', './autodl-fs/Data/genres_original/blues/blues.00043.wav', './autodl-fs/Data/genres_original/blues/blues.00044.wav', './autodl-fs/Data/genres_original/blues/blues.00045.wav', './autodl-fs/Data/genres_original/blues/blues.00046.wav', './autodl-fs/Data/genres_original/blues/blues.00047.wav', './autodl-fs/Data/genres_original/blues/blues.00048.wav', './autodl-fs/Data/genres_original/blues/blues.00049.wav', './autodl-fs/Data/genres_original/blues/blues.00050.wav', './autodl-fs/Data/genres_original/blues/blues.00051.wav', './autodl-fs/Data/genres_original/blues/blues.00052.wav', './autodl-fs/Data/genres_original/blues/blues.00053.wav', './autodl-fs/Data/genres_original/blues/blues.00054.wav', './autodl-fs/Data/genres_original/blues/blues.00055.wav', './autodl-fs/Data/genres_original/blues/blues.00056.wav', './autodl-fs/Data/genres_original/blues/blues.00057.wav', './autodl-fs/Data/genres_original/blues/blues.00058.wav', './autodl-fs/Data/genres_original/blues/blues.00059.wav', './autodl-fs/Data/genres_original/blues/blues.00060.wav', './autodl-fs/Data/genres_original/blues/blues.00061.wav', './autodl-fs/Data/genres_original/blues/blues.00062.wav', './autodl-fs/Data/genres_original/blues/blues.00063.wav', './autodl-fs/Data/genres_original/blues/blues.00064.wav', './autodl-fs/Data/genres_original/blues/blues.00065.wav', './autodl-fs/Data/genres_original/blues/blues.00066.wav', './autodl-fs/Data/genres_original/blues/blues.00067.wav', './autodl-fs/Data/genres_original/blues/blues.00068.wav', './autodl-fs/Data/genres_original/blues/blues.00069.wav', './autodl-fs/Data/genres_original/blues/blues.00070.wav', './autodl-fs/Data/genres_original/blues/blues.00071.wav', './autodl-fs/Data/genres_original/blues/blues.00072.wav', './autodl-fs/Data/genres_original/blues/blues.00073.wav', './autodl-fs/Data/genres_original/blues/blues.00074.wav', './autodl-fs/Data/genres_original/blues/blues.00075.wav', './autodl-fs/Data/genres_original/blues/blues.00076.wav', './autodl-fs/Data/genres_original/blues/blues.00077.wav', './autodl-fs/Data/genres_original/blues/blues.00078.wav', './autodl-fs/Data/genres_original/blues/blues.00079.wav', './autodl-fs/Data/genres_original/blues/blues.00080.wav', './autodl-fs/Data/genres_original/blues/blues.00081.wav', './autodl-fs/Data/genres_original/blues/blues.00082.wav', './autodl-fs/Data/genres_original/blues/blues.00083.wav', './autodl-fs/Data/genres_original/blues/blues.00084.wav', './autodl-fs/Data/genres_original/blues/blues.00085.wav', './autodl-fs/Data/genres_original/blues/blues.00086.wav', './autodl-fs/Data/genres_original/blues/blues.00087.wav', './autodl-fs/Data/genres_original/blues/blues.00088.wav', './autodl-fs/Data/genres_original/blues/blues.00089.wav', './autodl-fs/Data/genres_original/blues/blues.00090.wav', './autodl-fs/Data/genres_original/blues/blues.00091.wav', './autodl-fs/Data/genres_original/blues/blues.00092.wav', './autodl-fs/Data/genres_original/blues/blues.00093.wav', './autodl-fs/Data/genres_original/blues/blues.00094.wav', './autodl-fs/Data/genres_original/blues/blues.00095.wav', './autodl-fs/Data/genres_original/blues/blues.00096.wav', './autodl-fs/Data/genres_original/blues/blues.00097.wav', './autodl-fs/Data/genres_original/blues/blues.00098.wav', './autodl-fs/Data/genres_original/blues/blues.00099.wav', './autodl-fs/Data/genres_original/classical/classical.00000.wav', './autodl-fs/Data/genres_original/classical/classical.00001.wav', './autodl-fs/Data/genres_original/classical/classical.00002.wav', './autodl-fs/Data/genres_original/classical/classical.00003.wav', './autodl-fs/Data/genres_original/classical/classical.00004.wav', './autodl-fs/Data/genres_original/classical/classical.00005.wav', './autodl-fs/Data/genres_original/classical/classical.00006.wav', './autodl-fs/Data/genres_original/classical/classical.00007.wav', './autodl-fs/Data/genres_original/classical/classical.00008.wav', './autodl-fs/Data/genres_original/classical/classical.00009.wav', './autodl-fs/Data/genres_original/classical/classical.00010.wav', './autodl-fs/Data/genres_original/classical/classical.00011.wav', './autodl-fs/Data/genres_original/classical/classical.00012.wav', './autodl-fs/Data/genres_original/classical/classical.00013.wav', './autodl-fs/Data/genres_original/classical/classical.00014.wav', './autodl-fs/Data/genres_original/classical/classical.00015.wav', './autodl-fs/Data/genres_original/classical/classical.00016.wav', './autodl-fs/Data/genres_original/classical/classical.00017.wav', './autodl-fs/Data/genres_original/classical/classical.00018.wav', './autodl-fs/Data/genres_original/classical/classical.00019.wav', './autodl-fs/Data/genres_original/classical/classical.00020.wav', './autodl-fs/Data/genres_original/classical/classical.00021.wav', './autodl-fs/Data/genres_original/classical/classical.00022.wav', './autodl-fs/Data/genres_original/classical/classical.00023.wav', './autodl-fs/Data/genres_original/classical/classical.00024.wav', './autodl-fs/Data/genres_original/classical/classical.00025.wav', './autodl-fs/Data/genres_original/classical/classical.00026.wav', './autodl-fs/Data/genres_original/classical/classical.00027.wav', './autodl-fs/Data/genres_original/classical/classical.00028.wav', './autodl-fs/Data/genres_original/classical/classical.00029.wav', './autodl-fs/Data/genres_original/classical/classical.00030.wav', './autodl-fs/Data/genres_original/classical/classical.00031.wav', './autodl-fs/Data/genres_original/classical/classical.00032.wav', './autodl-fs/Data/genres_original/classical/classical.00033.wav', './autodl-fs/Data/genres_original/classical/classical.00034.wav', './autodl-fs/Data/genres_original/classical/classical.00035.wav', './autodl-fs/Data/genres_original/classical/classical.00036.wav', './autodl-fs/Data/genres_original/classical/classical.00037.wav', './autodl-fs/Data/genres_original/classical/classical.00038.wav', './autodl-fs/Data/genres_original/classical/classical.00039.wav', './autodl-fs/Data/genres_original/classical/classical.00040.wav', './autodl-fs/Data/genres_original/classical/classical.00041.wav', './autodl-fs/Data/genres_original/classical/classical.00042.wav', './autodl-fs/Data/genres_original/classical/classical.00043.wav', './autodl-fs/Data/genres_original/classical/classical.00044.wav', './autodl-fs/Data/genres_original/classical/classical.00045.wav', './autodl-fs/Data/genres_original/classical/classical.00046.wav', './autodl-fs/Data/genres_original/classical/classical.00047.wav', './autodl-fs/Data/genres_original/classical/classical.00048.wav', './autodl-fs/Data/genres_original/classical/classical.00049.wav', './autodl-fs/Data/genres_original/classical/classical.00050.wav', './autodl-fs/Data/genres_original/classical/classical.00051.wav', './autodl-fs/Data/genres_original/classical/classical.00052.wav', './autodl-fs/Data/genres_original/classical/classical.00053.wav', './autodl-fs/Data/genres_original/classical/classical.00054.wav', './autodl-fs/Data/genres_original/classical/classical.00055.wav', './autodl-fs/Data/genres_original/classical/classical.00056.wav', './autodl-fs/Data/genres_original/classical/classical.00057.wav', './autodl-fs/Data/genres_original/classical/classical.00058.wav', './autodl-fs/Data/genres_original/classical/classical.00059.wav', './autodl-fs/Data/genres_original/classical/classical.00060.wav', './autodl-fs/Data/genres_original/classical/classical.00061.wav', './autodl-fs/Data/genres_original/classical/classical.00062.wav', './autodl-fs/Data/genres_original/classical/classical.00063.wav', './autodl-fs/Data/genres_original/classical/classical.00064.wav', './autodl-fs/Data/genres_original/classical/classical.00065.wav', './autodl-fs/Data/genres_original/classical/classical.00066.wav', './autodl-fs/Data/genres_original/classical/classical.00067.wav', './autodl-fs/Data/genres_original/classical/classical.00068.wav', './autodl-fs/Data/genres_original/classical/classical.00069.wav', './autodl-fs/Data/genres_original/classical/classical.00070.wav', './autodl-fs/Data/genres_original/classical/classical.00071.wav', './autodl-fs/Data/genres_original/classical/classical.00072.wav', './autodl-fs/Data/genres_original/classical/classical.00073.wav', './autodl-fs/Data/genres_original/classical/classical.00074.wav', './autodl-fs/Data/genres_original/classical/classical.00075.wav', './autodl-fs/Data/genres_original/classical/classical.00076.wav', './autodl-fs/Data/genres_original/classical/classical.00077.wav', './autodl-fs/Data/genres_original/classical/classical.00078.wav', './autodl-fs/Data/genres_original/classical/classical.00079.wav', './autodl-fs/Data/genres_original/classical/classical.00080.wav', './autodl-fs/Data/genres_original/classical/classical.00081.wav', './autodl-fs/Data/genres_original/classical/classical.00082.wav', './autodl-fs/Data/genres_original/classical/classical.00083.wav', './autodl-fs/Data/genres_original/classical/classical.00084.wav', './autodl-fs/Data/genres_original/classical/classical.00085.wav', './autodl-fs/Data/genres_original/classical/classical.00086.wav', './autodl-fs/Data/genres_original/classical/classical.00087.wav', './autodl-fs/Data/genres_original/classical/classical.00088.wav', './autodl-fs/Data/genres_original/classical/classical.00089.wav', './autodl-fs/Data/genres_original/classical/classical.00090.wav', './autodl-fs/Data/genres_original/classical/classical.00091.wav', './autodl-fs/Data/genres_original/classical/classical.00092.wav', './autodl-fs/Data/genres_original/classical/classical.00093.wav', './autodl-fs/Data/genres_original/classical/classical.00094.wav', './autodl-fs/Data/genres_original/classical/classical.00095.wav', './autodl-fs/Data/genres_original/classical/classical.00096.wav', './autodl-fs/Data/genres_original/classical/classical.00097.wav', './autodl-fs/Data/genres_original/classical/classical.00098.wav', './autodl-fs/Data/genres_original/classical/classical.00099.wav', './autodl-fs/Data/genres_original/country/country.00000.wav', './autodl-fs/Data/genres_original/country/country.00001.wav', './autodl-fs/Data/genres_original/country/country.00002.wav', './autodl-fs/Data/genres_original/country/country.00003.wav', './autodl-fs/Data/genres_original/country/country.00004.wav', './autodl-fs/Data/genres_original/country/country.00005.wav', './autodl-fs/Data/genres_original/country/country.00006.wav', './autodl-fs/Data/genres_original/country/country.00007.wav', './autodl-fs/Data/genres_original/country/country.00008.wav', './autodl-fs/Data/genres_original/country/country.00009.wav', './autodl-fs/Data/genres_original/country/country.00010.wav', './autodl-fs/Data/genres_original/country/country.00011.wav', './autodl-fs/Data/genres_original/country/country.00012.wav', './autodl-fs/Data/genres_original/country/country.00013.wav', './autodl-fs/Data/genres_original/country/country.00014.wav', './autodl-fs/Data/genres_original/country/country.00015.wav', './autodl-fs/Data/genres_original/country/country.00016.wav', './autodl-fs/Data/genres_original/country/country.00017.wav', './autodl-fs/Data/genres_original/country/country.00018.wav', './autodl-fs/Data/genres_original/country/country.00019.wav', './autodl-fs/Data/genres_original/country/country.00020.wav', './autodl-fs/Data/genres_original/country/country.00021.wav', './autodl-fs/Data/genres_original/country/country.00022.wav', './autodl-fs/Data/genres_original/country/country.00023.wav', './autodl-fs/Data/genres_original/country/country.00024.wav', './autodl-fs/Data/genres_original/country/country.00025.wav', './autodl-fs/Data/genres_original/country/country.00026.wav', './autodl-fs/Data/genres_original/country/country.00027.wav', './autodl-fs/Data/genres_original/country/country.00028.wav', './autodl-fs/Data/genres_original/country/country.00029.wav', './autodl-fs/Data/genres_original/country/country.00030.wav', './autodl-fs/Data/genres_original/country/country.00031.wav', './autodl-fs/Data/genres_original/country/country.00032.wav', './autodl-fs/Data/genres_original/country/country.00033.wav', './autodl-fs/Data/genres_original/country/country.00034.wav', './autodl-fs/Data/genres_original/country/country.00035.wav', './autodl-fs/Data/genres_original/country/country.00036.wav', './autodl-fs/Data/genres_original/country/country.00037.wav', './autodl-fs/Data/genres_original/country/country.00038.wav', './autodl-fs/Data/genres_original/country/country.00039.wav', './autodl-fs/Data/genres_original/country/country.00040.wav', './autodl-fs/Data/genres_original/country/country.00041.wav', './autodl-fs/Data/genres_original/country/country.00042.wav', './autodl-fs/Data/genres_original/country/country.00043.wav', './autodl-fs/Data/genres_original/country/country.00044.wav', './autodl-fs/Data/genres_original/country/country.00045.wav', './autodl-fs/Data/genres_original/country/country.00046.wav', './autodl-fs/Data/genres_original/country/country.00047.wav', './autodl-fs/Data/genres_original/country/country.00048.wav', './autodl-fs/Data/genres_original/country/country.00049.wav', './autodl-fs/Data/genres_original/country/country.00050.wav', './autodl-fs/Data/genres_original/country/country.00051.wav', './autodl-fs/Data/genres_original/country/country.00052.wav', './autodl-fs/Data/genres_original/country/country.00053.wav', './autodl-fs/Data/genres_original/country/country.00054.wav', './autodl-fs/Data/genres_original/country/country.00055.wav', './autodl-fs/Data/genres_original/country/country.00056.wav', './autodl-fs/Data/genres_original/country/country.00057.wav', './autodl-fs/Data/genres_original/country/country.00058.wav', './autodl-fs/Data/genres_original/country/country.00059.wav', './autodl-fs/Data/genres_original/country/country.00060.wav', './autodl-fs/Data/genres_original/country/country.00061.wav', './autodl-fs/Data/genres_original/country/country.00062.wav', './autodl-fs/Data/genres_original/country/country.00063.wav', './autodl-fs/Data/genres_original/country/country.00064.wav', './autodl-fs/Data/genres_original/country/country.00065.wav', './autodl-fs/Data/genres_original/country/country.00066.wav', './autodl-fs/Data/genres_original/country/country.00067.wav', './autodl-fs/Data/genres_original/country/country.00068.wav', './autodl-fs/Data/genres_original/country/country.00069.wav', './autodl-fs/Data/genres_original/country/country.00070.wav', './autodl-fs/Data/genres_original/country/country.00071.wav', './autodl-fs/Data/genres_original/country/country.00072.wav', './autodl-fs/Data/genres_original/country/country.00073.wav', './autodl-fs/Data/genres_original/country/country.00074.wav', './autodl-fs/Data/genres_original/country/country.00075.wav', './autodl-fs/Data/genres_original/country/country.00076.wav', './autodl-fs/Data/genres_original/country/country.00077.wav', './autodl-fs/Data/genres_original/country/country.00078.wav', './autodl-fs/Data/genres_original/country/country.00079.wav', './autodl-fs/Data/genres_original/country/country.00080.wav', './autodl-fs/Data/genres_original/country/country.00081.wav', './autodl-fs/Data/genres_original/country/country.00082.wav', './autodl-fs/Data/genres_original/country/country.00083.wav', './autodl-fs/Data/genres_original/country/country.00084.wav', './autodl-fs/Data/genres_original/country/country.00085.wav', './autodl-fs/Data/genres_original/country/country.00086.wav', './autodl-fs/Data/genres_original/country/country.00087.wav', './autodl-fs/Data/genres_original/country/country.00088.wav', './autodl-fs/Data/genres_original/country/country.00089.wav', './autodl-fs/Data/genres_original/country/country.00090.wav', './autodl-fs/Data/genres_original/country/country.00091.wav', './autodl-fs/Data/genres_original/country/country.00092.wav', './autodl-fs/Data/genres_original/country/country.00093.wav', './autodl-fs/Data/genres_original/country/country.00094.wav', './autodl-fs/Data/genres_original/country/country.00095.wav', './autodl-fs/Data/genres_original/country/country.00096.wav', './autodl-fs/Data/genres_original/country/country.00097.wav', './autodl-fs/Data/genres_original/country/country.00098.wav', './autodl-fs/Data/genres_original/country/country.00099.wav', './autodl-fs/Data/genres_original/disco/disco.00000.wav', './autodl-fs/Data/genres_original/disco/disco.00001.wav', './autodl-fs/Data/genres_original/disco/disco.00002.wav', './autodl-fs/Data/genres_original/disco/disco.00003.wav', './autodl-fs/Data/genres_original/disco/disco.00004.wav', './autodl-fs/Data/genres_original/disco/disco.00005.wav', './autodl-fs/Data/genres_original/disco/disco.00006.wav', './autodl-fs/Data/genres_original/disco/disco.00007.wav', './autodl-fs/Data/genres_original/disco/disco.00008.wav', './autodl-fs/Data/genres_original/disco/disco.00009.wav', './autodl-fs/Data/genres_original/disco/disco.00010.wav', './autodl-fs/Data/genres_original/disco/disco.00011.wav', './autodl-fs/Data/genres_original/disco/disco.00012.wav', './autodl-fs/Data/genres_original/disco/disco.00013.wav', './autodl-fs/Data/genres_original/disco/disco.00014.wav', './autodl-fs/Data/genres_original/disco/disco.00015.wav', './autodl-fs/Data/genres_original/disco/disco.00016.wav', './autodl-fs/Data/genres_original/disco/disco.00017.wav', './autodl-fs/Data/genres_original/disco/disco.00018.wav', './autodl-fs/Data/genres_original/disco/disco.00019.wav', './autodl-fs/Data/genres_original/disco/disco.00020.wav', './autodl-fs/Data/genres_original/disco/disco.00021.wav', './autodl-fs/Data/genres_original/disco/disco.00022.wav', './autodl-fs/Data/genres_original/disco/disco.00023.wav', './autodl-fs/Data/genres_original/disco/disco.00024.wav', './autodl-fs/Data/genres_original/disco/disco.00025.wav', './autodl-fs/Data/genres_original/disco/disco.00026.wav', './autodl-fs/Data/genres_original/disco/disco.00027.wav', './autodl-fs/Data/genres_original/disco/disco.00028.wav', './autodl-fs/Data/genres_original/disco/disco.00029.wav', './autodl-fs/Data/genres_original/disco/disco.00030.wav', './autodl-fs/Data/genres_original/disco/disco.00031.wav', './autodl-fs/Data/genres_original/disco/disco.00032.wav', './autodl-fs/Data/genres_original/disco/disco.00033.wav', './autodl-fs/Data/genres_original/disco/disco.00034.wav', './autodl-fs/Data/genres_original/disco/disco.00035.wav', './autodl-fs/Data/genres_original/disco/disco.00036.wav', './autodl-fs/Data/genres_original/disco/disco.00037.wav', './autodl-fs/Data/genres_original/disco/disco.00038.wav', './autodl-fs/Data/genres_original/disco/disco.00039.wav', './autodl-fs/Data/genres_original/disco/disco.00040.wav', './autodl-fs/Data/genres_original/disco/disco.00041.wav', './autodl-fs/Data/genres_original/disco/disco.00042.wav', './autodl-fs/Data/genres_original/disco/disco.00043.wav', './autodl-fs/Data/genres_original/disco/disco.00044.wav', './autodl-fs/Data/genres_original/disco/disco.00045.wav', './autodl-fs/Data/genres_original/disco/disco.00046.wav', './autodl-fs/Data/genres_original/disco/disco.00047.wav', './autodl-fs/Data/genres_original/disco/disco.00048.wav', './autodl-fs/Data/genres_original/disco/disco.00049.wav', './autodl-fs/Data/genres_original/disco/disco.00050.wav', './autodl-fs/Data/genres_original/disco/disco.00051.wav', './autodl-fs/Data/genres_original/disco/disco.00052.wav', './autodl-fs/Data/genres_original/disco/disco.00053.wav', './autodl-fs/Data/genres_original/disco/disco.00054.wav', './autodl-fs/Data/genres_original/disco/disco.00055.wav', './autodl-fs/Data/genres_original/disco/disco.00056.wav', './autodl-fs/Data/genres_original/disco/disco.00057.wav', './autodl-fs/Data/genres_original/disco/disco.00058.wav', './autodl-fs/Data/genres_original/disco/disco.00059.wav', './autodl-fs/Data/genres_original/disco/disco.00060.wav', './autodl-fs/Data/genres_original/disco/disco.00061.wav', './autodl-fs/Data/genres_original/disco/disco.00062.wav', './autodl-fs/Data/genres_original/disco/disco.00063.wav', './autodl-fs/Data/genres_original/disco/disco.00064.wav', './autodl-fs/Data/genres_original/disco/disco.00065.wav', './autodl-fs/Data/genres_original/disco/disco.00066.wav', './autodl-fs/Data/genres_original/disco/disco.00067.wav', './autodl-fs/Data/genres_original/disco/disco.00068.wav', './autodl-fs/Data/genres_original/disco/disco.00069.wav', './autodl-fs/Data/genres_original/disco/disco.00070.wav', './autodl-fs/Data/genres_original/disco/disco.00071.wav', './autodl-fs/Data/genres_original/disco/disco.00072.wav', './autodl-fs/Data/genres_original/disco/disco.00073.wav', './autodl-fs/Data/genres_original/disco/disco.00074.wav', './autodl-fs/Data/genres_original/disco/disco.00075.wav', './autodl-fs/Data/genres_original/disco/disco.00076.wav', './autodl-fs/Data/genres_original/disco/disco.00077.wav', './autodl-fs/Data/genres_original/disco/disco.00078.wav', './autodl-fs/Data/genres_original/disco/disco.00079.wav', './autodl-fs/Data/genres_original/disco/disco.00080.wav', './autodl-fs/Data/genres_original/disco/disco.00081.wav', './autodl-fs/Data/genres_original/disco/disco.00082.wav', './autodl-fs/Data/genres_original/disco/disco.00083.wav', './autodl-fs/Data/genres_original/disco/disco.00084.wav', './autodl-fs/Data/genres_original/disco/disco.00085.wav', './autodl-fs/Data/genres_original/disco/disco.00086.wav', './autodl-fs/Data/genres_original/disco/disco.00087.wav', './autodl-fs/Data/genres_original/disco/disco.00088.wav', './autodl-fs/Data/genres_original/disco/disco.00089.wav', './autodl-fs/Data/genres_original/disco/disco.00090.wav', './autodl-fs/Data/genres_original/disco/disco.00091.wav', './autodl-fs/Data/genres_original/disco/disco.00092.wav', './autodl-fs/Data/genres_original/disco/disco.00093.wav', './autodl-fs/Data/genres_original/disco/disco.00094.wav', './autodl-fs/Data/genres_original/disco/disco.00095.wav', './autodl-fs/Data/genres_original/disco/disco.00096.wav', './autodl-fs/Data/genres_original/disco/disco.00097.wav', './autodl-fs/Data/genres_original/disco/disco.00098.wav', './autodl-fs/Data/genres_original/disco/disco.00099.wav', './autodl-fs/Data/genres_original/hiphop/hiphop.00000.wav', './autodl-fs/Data/genres_original/hiphop/hiphop.00001.wav', './autodl-fs/Data/genres_original/hiphop/hiphop.00002.wav', './autodl-fs/Data/genres_original/hiphop/hiphop.00003.wav', './autodl-fs/Data/genres_original/hiphop/hiphop.00004.wav', './autodl-fs/Data/genres_original/hiphop/hiphop.00005.wav', './autodl-fs/Data/genres_original/hiphop/hiphop.00006.wav', './autodl-fs/Data/genres_original/hiphop/hiphop.00007.wav', './autodl-fs/Data/genres_original/hiphop/hiphop.00008.wav', './autodl-fs/Data/genres_original/hiphop/hiphop.00009.wav', './autodl-fs/Data/genres_original/hiphop/hiphop.00010.wav', './autodl-fs/Data/genres_original/hiphop/hiphop.00011.wav', './autodl-fs/Data/genres_original/hiphop/hiphop.00012.wav', './autodl-fs/Data/genres_original/hiphop/hiphop.00013.wav', './autodl-fs/Data/genres_original/hiphop/hiphop.00014.wav', './autodl-fs/Data/genres_original/hiphop/hiphop.00015.wav', './autodl-fs/Data/genres_original/hiphop/hiphop.00016.wav', './autodl-fs/Data/genres_original/hiphop/hiphop.00017.wav', './autodl-fs/Data/genres_original/hiphop/hiphop.00018.wav', './autodl-fs/Data/genres_original/hiphop/hiphop.00019.wav', './autodl-fs/Data/genres_original/hiphop/hiphop.00020.wav', './autodl-fs/Data/genres_original/hiphop/hiphop.00021.wav', './autodl-fs/Data/genres_original/hiphop/hiphop.00022.wav', './autodl-fs/Data/genres_original/hiphop/hiphop.00023.wav', './autodl-fs/Data/genres_original/hiphop/hiphop.00024.wav', './autodl-fs/Data/genres_original/hiphop/hiphop.00025.wav', './autodl-fs/Data/genres_original/hiphop/hiphop.00026.wav', './autodl-fs/Data/genres_original/hiphop/hiphop.00027.wav', './autodl-fs/Data/genres_original/hiphop/hiphop.00028.wav', './autodl-fs/Data/genres_original/hiphop/hiphop.00029.wav', './autodl-fs/Data/genres_original/hiphop/hiphop.00030.wav', './autodl-fs/Data/genres_original/hiphop/hiphop.00031.wav', './autodl-fs/Data/genres_original/hiphop/hiphop.00032.wav', './autodl-fs/Data/genres_original/hiphop/hiphop.00033.wav', './autodl-fs/Data/genres_original/hiphop/hiphop.00034.wav', './autodl-fs/Data/genres_original/hiphop/hiphop.00035.wav', './autodl-fs/Data/genres_original/hiphop/hiphop.00036.wav', './autodl-fs/Data/genres_original/hiphop/hiphop.00037.wav', './autodl-fs/Data/genres_original/hiphop/hiphop.00038.wav', './autodl-fs/Data/genres_original/hiphop/hiphop.00039.wav', './autodl-fs/Data/genres_original/hiphop/hiphop.00040.wav', './autodl-fs/Data/genres_original/hiphop/hiphop.00041.wav', './autodl-fs/Data/genres_original/hiphop/hiphop.00042.wav', './autodl-fs/Data/genres_original/hiphop/hiphop.00043.wav', './autodl-fs/Data/genres_original/hiphop/hiphop.00044.wav', './autodl-fs/Data/genres_original/hiphop/hiphop.00045.wav', './autodl-fs/Data/genres_original/hiphop/hiphop.00046.wav', './autodl-fs/Data/genres_original/hiphop/hiphop.00047.wav', './autodl-fs/Data/genres_original/hiphop/hiphop.00048.wav', './autodl-fs/Data/genres_original/hiphop/hiphop.00049.wav', './autodl-fs/Data/genres_original/hiphop/hiphop.00050.wav', './autodl-fs/Data/genres_original/hiphop/hiphop.00051.wav', './autodl-fs/Data/genres_original/hiphop/hiphop.00052.wav', './autodl-fs/Data/genres_original/hiphop/hiphop.00053.wav', './autodl-fs/Data/genres_original/hiphop/hiphop.00054.wav', './autodl-fs/Data/genres_original/hiphop/hiphop.00055.wav', './autodl-fs/Data/genres_original/hiphop/hiphop.00056.wav', './autodl-fs/Data/genres_original/hiphop/hiphop.00057.wav', './autodl-fs/Data/genres_original/hiphop/hiphop.00058.wav', './autodl-fs/Data/genres_original/hiphop/hiphop.00059.wav', './autodl-fs/Data/genres_original/hiphop/hiphop.00060.wav', './autodl-fs/Data/genres_original/hiphop/hiphop.00061.wav', './autodl-fs/Data/genres_original/hiphop/hiphop.00062.wav', './autodl-fs/Data/genres_original/hiphop/hiphop.00063.wav', './autodl-fs/Data/genres_original/hiphop/hiphop.00064.wav', './autodl-fs/Data/genres_original/hiphop/hiphop.00065.wav', './autodl-fs/Data/genres_original/hiphop/hiphop.00066.wav', './autodl-fs/Data/genres_original/hiphop/hiphop.00067.wav', './autodl-fs/Data/genres_original/hiphop/hiphop.00068.wav', './autodl-fs/Data/genres_original/hiphop/hiphop.00069.wav', './autodl-fs/Data/genres_original/hiphop/hiphop.00070.wav', './autodl-fs/Data/genres_original/hiphop/hiphop.00071.wav', './autodl-fs/Data/genres_original/hiphop/hiphop.00072.wav', './autodl-fs/Data/genres_original/hiphop/hiphop.00073.wav', './autodl-fs/Data/genres_original/hiphop/hiphop.00074.wav', './autodl-fs/Data/genres_original/hiphop/hiphop.00075.wav', './autodl-fs/Data/genres_original/hiphop/hiphop.00076.wav', './autodl-fs/Data/genres_original/hiphop/hiphop.00077.wav', './autodl-fs/Data/genres_original/hiphop/hiphop.00078.wav', './autodl-fs/Data/genres_original/hiphop/hiphop.00079.wav', './autodl-fs/Data/genres_original/hiphop/hiphop.00080.wav', './autodl-fs/Data/genres_original/hiphop/hiphop.00081.wav', './autodl-fs/Data/genres_original/hiphop/hiphop.00082.wav', './autodl-fs/Data/genres_original/hiphop/hiphop.00083.wav', './autodl-fs/Data/genres_original/hiphop/hiphop.00084.wav', './autodl-fs/Data/genres_original/hiphop/hiphop.00085.wav', './autodl-fs/Data/genres_original/hiphop/hiphop.00086.wav', './autodl-fs/Data/genres_original/hiphop/hiphop.00087.wav', './autodl-fs/Data/genres_original/hiphop/hiphop.00088.wav', './autodl-fs/Data/genres_original/hiphop/hiphop.00089.wav', './autodl-fs/Data/genres_original/hiphop/hiphop.00090.wav', './autodl-fs/Data/genres_original/hiphop/hiphop.00091.wav', './autodl-fs/Data/genres_original/hiphop/hiphop.00092.wav', './autodl-fs/Data/genres_original/hiphop/hiphop.00093.wav', './autodl-fs/Data/genres_original/hiphop/hiphop.00094.wav', './autodl-fs/Data/genres_original/hiphop/hiphop.00095.wav', './autodl-fs/Data/genres_original/hiphop/hiphop.00096.wav', './autodl-fs/Data/genres_original/hiphop/hiphop.00097.wav', './autodl-fs/Data/genres_original/hiphop/hiphop.00098.wav', './autodl-fs/Data/genres_original/hiphop/hiphop.00099.wav', './autodl-fs/Data/genres_original/jazz/jazz.00000.wav', './autodl-fs/Data/genres_original/jazz/jazz.00001.wav', './autodl-fs/Data/genres_original/jazz/jazz.00002.wav', './autodl-fs/Data/genres_original/jazz/jazz.00003.wav', './autodl-fs/Data/genres_original/jazz/jazz.00004.wav', './autodl-fs/Data/genres_original/jazz/jazz.00005.wav', './autodl-fs/Data/genres_original/jazz/jazz.00006.wav', './autodl-fs/Data/genres_original/jazz/jazz.00007.wav', './autodl-fs/Data/genres_original/jazz/jazz.00008.wav', './autodl-fs/Data/genres_original/jazz/jazz.00009.wav', './autodl-fs/Data/genres_original/jazz/jazz.00010.wav', './autodl-fs/Data/genres_original/jazz/jazz.00011.wav', './autodl-fs/Data/genres_original/jazz/jazz.00012.wav', './autodl-fs/Data/genres_original/jazz/jazz.00013.wav', './autodl-fs/Data/genres_original/jazz/jazz.00014.wav', './autodl-fs/Data/genres_original/jazz/jazz.00015.wav', './autodl-fs/Data/genres_original/jazz/jazz.00016.wav', './autodl-fs/Data/genres_original/jazz/jazz.00017.wav', './autodl-fs/Data/genres_original/jazz/jazz.00018.wav', './autodl-fs/Data/genres_original/jazz/jazz.00019.wav', './autodl-fs/Data/genres_original/jazz/jazz.00020.wav', './autodl-fs/Data/genres_original/jazz/jazz.00021.wav', './autodl-fs/Data/genres_original/jazz/jazz.00022.wav', './autodl-fs/Data/genres_original/jazz/jazz.00023.wav', './autodl-fs/Data/genres_original/jazz/jazz.00024.wav', './autodl-fs/Data/genres_original/jazz/jazz.00025.wav', './autodl-fs/Data/genres_original/jazz/jazz.00026.wav', './autodl-fs/Data/genres_original/jazz/jazz.00027.wav', './autodl-fs/Data/genres_original/jazz/jazz.00028.wav', './autodl-fs/Data/genres_original/jazz/jazz.00029.wav', './autodl-fs/Data/genres_original/jazz/jazz.00030.wav', './autodl-fs/Data/genres_original/jazz/jazz.00031.wav', './autodl-fs/Data/genres_original/jazz/jazz.00032.wav', './autodl-fs/Data/genres_original/jazz/jazz.00033.wav', './autodl-fs/Data/genres_original/jazz/jazz.00034.wav', './autodl-fs/Data/genres_original/jazz/jazz.00035.wav', './autodl-fs/Data/genres_original/jazz/jazz.00036.wav', './autodl-fs/Data/genres_original/jazz/jazz.00037.wav', './autodl-fs/Data/genres_original/jazz/jazz.00038.wav', './autodl-fs/Data/genres_original/jazz/jazz.00039.wav', './autodl-fs/Data/genres_original/jazz/jazz.00040.wav', './autodl-fs/Data/genres_original/jazz/jazz.00041.wav', './autodl-fs/Data/genres_original/jazz/jazz.00042.wav', './autodl-fs/Data/genres_original/jazz/jazz.00043.wav', './autodl-fs/Data/genres_original/jazz/jazz.00044.wav', './autodl-fs/Data/genres_original/jazz/jazz.00045.wav', './autodl-fs/Data/genres_original/jazz/jazz.00046.wav', './autodl-fs/Data/genres_original/jazz/jazz.00047.wav', './autodl-fs/Data/genres_original/jazz/jazz.00048.wav', './autodl-fs/Data/genres_original/jazz/jazz.00049.wav', './autodl-fs/Data/genres_original/jazz/jazz.00050.wav', './autodl-fs/Data/genres_original/jazz/jazz.00051.wav', './autodl-fs/Data/genres_original/jazz/jazz.00052.wav', './autodl-fs/Data/genres_original/jazz/jazz.00053.wav', './autodl-fs/Data/genres_original/jazz/jazz.00055.wav', './autodl-fs/Data/genres_original/jazz/jazz.00056.wav', './autodl-fs/Data/genres_original/jazz/jazz.00057.wav', './autodl-fs/Data/genres_original/jazz/jazz.00058.wav', './autodl-fs/Data/genres_original/jazz/jazz.00059.wav', './autodl-fs/Data/genres_original/jazz/jazz.00060.wav', './autodl-fs/Data/genres_original/jazz/jazz.00061.wav', './autodl-fs/Data/genres_original/jazz/jazz.00062.wav', './autodl-fs/Data/genres_original/jazz/jazz.00063.wav', './autodl-fs/Data/genres_original/jazz/jazz.00064.wav', './autodl-fs/Data/genres_original/jazz/jazz.00065.wav', './autodl-fs/Data/genres_original/jazz/jazz.00066.wav', './autodl-fs/Data/genres_original/jazz/jazz.00067.wav', './autodl-fs/Data/genres_original/jazz/jazz.00068.wav', './autodl-fs/Data/genres_original/jazz/jazz.00069.wav', './autodl-fs/Data/genres_original/jazz/jazz.00070.wav', './autodl-fs/Data/genres_original/jazz/jazz.00071.wav', './autodl-fs/Data/genres_original/jazz/jazz.00072.wav', './autodl-fs/Data/genres_original/jazz/jazz.00073.wav', './autodl-fs/Data/genres_original/jazz/jazz.00074.wav', './autodl-fs/Data/genres_original/jazz/jazz.00075.wav', './autodl-fs/Data/genres_original/jazz/jazz.00076.wav', './autodl-fs/Data/genres_original/jazz/jazz.00077.wav', './autodl-fs/Data/genres_original/jazz/jazz.00078.wav', './autodl-fs/Data/genres_original/jazz/jazz.00079.wav', './autodl-fs/Data/genres_original/jazz/jazz.00080.wav', './autodl-fs/Data/genres_original/jazz/jazz.00081.wav', './autodl-fs/Data/genres_original/jazz/jazz.00082.wav', './autodl-fs/Data/genres_original/jazz/jazz.00083.wav', './autodl-fs/Data/genres_original/jazz/jazz.00084.wav', './autodl-fs/Data/genres_original/jazz/jazz.00085.wav', './autodl-fs/Data/genres_original/jazz/jazz.00086.wav', './autodl-fs/Data/genres_original/jazz/jazz.00087.wav', './autodl-fs/Data/genres_original/jazz/jazz.00088.wav', './autodl-fs/Data/genres_original/jazz/jazz.00089.wav', './autodl-fs/Data/genres_original/jazz/jazz.00090.wav', './autodl-fs/Data/genres_original/jazz/jazz.00091.wav', './autodl-fs/Data/genres_original/jazz/jazz.00092.wav', './autodl-fs/Data/genres_original/jazz/jazz.00093.wav', './autodl-fs/Data/genres_original/jazz/jazz.00094.wav', './autodl-fs/Data/genres_original/jazz/jazz.00095.wav', './autodl-fs/Data/genres_original/jazz/jazz.00096.wav', './autodl-fs/Data/genres_original/jazz/jazz.00097.wav', './autodl-fs/Data/genres_original/jazz/jazz.00098.wav', './autodl-fs/Data/genres_original/jazz/jazz.00099.wav', './autodl-fs/Data/genres_original/metal/metal.00000.wav', './autodl-fs/Data/genres_original/metal/metal.00001.wav', './autodl-fs/Data/genres_original/metal/metal.00002.wav', './autodl-fs/Data/genres_original/metal/metal.00003.wav', './autodl-fs/Data/genres_original/metal/metal.00004.wav', './autodl-fs/Data/genres_original/metal/metal.00005.wav', './autodl-fs/Data/genres_original/metal/metal.00006.wav', './autodl-fs/Data/genres_original/metal/metal.00007.wav', './autodl-fs/Data/genres_original/metal/metal.00008.wav', './autodl-fs/Data/genres_original/metal/metal.00009.wav', './autodl-fs/Data/genres_original/metal/metal.00010.wav', './autodl-fs/Data/genres_original/metal/metal.00011.wav', './autodl-fs/Data/genres_original/metal/metal.00012.wav', './autodl-fs/Data/genres_original/metal/metal.00013.wav', './autodl-fs/Data/genres_original/metal/metal.00014.wav', './autodl-fs/Data/genres_original/metal/metal.00015.wav', './autodl-fs/Data/genres_original/metal/metal.00016.wav', './autodl-fs/Data/genres_original/metal/metal.00017.wav', './autodl-fs/Data/genres_original/metal/metal.00018.wav', './autodl-fs/Data/genres_original/metal/metal.00019.wav', './autodl-fs/Data/genres_original/metal/metal.00020.wav', './autodl-fs/Data/genres_original/metal/metal.00021.wav', './autodl-fs/Data/genres_original/metal/metal.00022.wav', './autodl-fs/Data/genres_original/metal/metal.00023.wav', './autodl-fs/Data/genres_original/metal/metal.00024.wav', './autodl-fs/Data/genres_original/metal/metal.00025.wav', './autodl-fs/Data/genres_original/metal/metal.00026.wav', './autodl-fs/Data/genres_original/metal/metal.00027.wav', './autodl-fs/Data/genres_original/metal/metal.00028.wav', './autodl-fs/Data/genres_original/metal/metal.00029.wav', './autodl-fs/Data/genres_original/metal/metal.00030.wav', './autodl-fs/Data/genres_original/metal/metal.00031.wav', './autodl-fs/Data/genres_original/metal/metal.00032.wav', './autodl-fs/Data/genres_original/metal/metal.00033.wav', './autodl-fs/Data/genres_original/metal/metal.00034.wav', './autodl-fs/Data/genres_original/metal/metal.00035.wav', './autodl-fs/Data/genres_original/metal/metal.00036.wav', './autodl-fs/Data/genres_original/metal/metal.00037.wav', './autodl-fs/Data/genres_original/metal/metal.00038.wav', './autodl-fs/Data/genres_original/metal/metal.00039.wav', './autodl-fs/Data/genres_original/metal/metal.00040.wav', './autodl-fs/Data/genres_original/metal/metal.00041.wav', './autodl-fs/Data/genres_original/metal/metal.00042.wav', './autodl-fs/Data/genres_original/metal/metal.00043.wav', './autodl-fs/Data/genres_original/metal/metal.00044.wav', './autodl-fs/Data/genres_original/metal/metal.00045.wav', './autodl-fs/Data/genres_original/metal/metal.00046.wav', './autodl-fs/Data/genres_original/metal/metal.00047.wav', './autodl-fs/Data/genres_original/metal/metal.00048.wav', './autodl-fs/Data/genres_original/metal/metal.00049.wav', './autodl-fs/Data/genres_original/metal/metal.00050.wav', './autodl-fs/Data/genres_original/metal/metal.00051.wav', './autodl-fs/Data/genres_original/metal/metal.00052.wav', './autodl-fs/Data/genres_original/metal/metal.00053.wav', './autodl-fs/Data/genres_original/metal/metal.00054.wav', './autodl-fs/Data/genres_original/metal/metal.00055.wav', './autodl-fs/Data/genres_original/metal/metal.00056.wav', './autodl-fs/Data/genres_original/metal/metal.00057.wav', './autodl-fs/Data/genres_original/metal/metal.00058.wav', './autodl-fs/Data/genres_original/metal/metal.00059.wav', './autodl-fs/Data/genres_original/metal/metal.00060.wav', './autodl-fs/Data/genres_original/metal/metal.00061.wav', './autodl-fs/Data/genres_original/metal/metal.00062.wav', './autodl-fs/Data/genres_original/metal/metal.00063.wav', './autodl-fs/Data/genres_original/metal/metal.00064.wav', './autodl-fs/Data/genres_original/metal/metal.00065.wav', './autodl-fs/Data/genres_original/metal/metal.00066.wav', './autodl-fs/Data/genres_original/metal/metal.00067.wav', './autodl-fs/Data/genres_original/metal/metal.00068.wav', './autodl-fs/Data/genres_original/metal/metal.00069.wav', './autodl-fs/Data/genres_original/metal/metal.00070.wav', './autodl-fs/Data/genres_original/metal/metal.00071.wav', './autodl-fs/Data/genres_original/metal/metal.00072.wav', './autodl-fs/Data/genres_original/metal/metal.00073.wav', './autodl-fs/Data/genres_original/metal/metal.00074.wav', './autodl-fs/Data/genres_original/metal/metal.00075.wav', './autodl-fs/Data/genres_original/metal/metal.00076.wav', './autodl-fs/Data/genres_original/metal/metal.00077.wav', './autodl-fs/Data/genres_original/metal/metal.00078.wav', './autodl-fs/Data/genres_original/metal/metal.00079.wav', './autodl-fs/Data/genres_original/metal/metal.00080.wav', './autodl-fs/Data/genres_original/metal/metal.00081.wav', './autodl-fs/Data/genres_original/metal/metal.00082.wav', './autodl-fs/Data/genres_original/metal/metal.00083.wav', './autodl-fs/Data/genres_original/metal/metal.00084.wav', './autodl-fs/Data/genres_original/metal/metal.00085.wav', './autodl-fs/Data/genres_original/metal/metal.00086.wav', './autodl-fs/Data/genres_original/metal/metal.00087.wav', './autodl-fs/Data/genres_original/metal/metal.00088.wav', './autodl-fs/Data/genres_original/metal/metal.00089.wav', './autodl-fs/Data/genres_original/metal/metal.00090.wav', './autodl-fs/Data/genres_original/metal/metal.00091.wav', './autodl-fs/Data/genres_original/metal/metal.00092.wav', './autodl-fs/Data/genres_original/metal/metal.00093.wav', './autodl-fs/Data/genres_original/metal/metal.00094.wav', './autodl-fs/Data/genres_original/metal/metal.00095.wav', './autodl-fs/Data/genres_original/metal/metal.00096.wav', './autodl-fs/Data/genres_original/metal/metal.00097.wav', './autodl-fs/Data/genres_original/metal/metal.00098.wav', './autodl-fs/Data/genres_original/metal/metal.00099.wav', './autodl-fs/Data/genres_original/pop/pop.00000.wav', './autodl-fs/Data/genres_original/pop/pop.00001.wav', './autodl-fs/Data/genres_original/pop/pop.00002.wav', './autodl-fs/Data/genres_original/pop/pop.00003.wav', './autodl-fs/Data/genres_original/pop/pop.00004.wav', './autodl-fs/Data/genres_original/pop/pop.00005.wav', './autodl-fs/Data/genres_original/pop/pop.00006.wav', './autodl-fs/Data/genres_original/pop/pop.00007.wav', './autodl-fs/Data/genres_original/pop/pop.00008.wav', './autodl-fs/Data/genres_original/pop/pop.00009.wav', './autodl-fs/Data/genres_original/pop/pop.00010.wav', './autodl-fs/Data/genres_original/pop/pop.00011.wav', './autodl-fs/Data/genres_original/pop/pop.00012.wav', './autodl-fs/Data/genres_original/pop/pop.00013.wav', './autodl-fs/Data/genres_original/pop/pop.00014.wav', './autodl-fs/Data/genres_original/pop/pop.00015.wav', './autodl-fs/Data/genres_original/pop/pop.00016.wav', './autodl-fs/Data/genres_original/pop/pop.00017.wav', './autodl-fs/Data/genres_original/pop/pop.00018.wav', './autodl-fs/Data/genres_original/pop/pop.00019.wav', './autodl-fs/Data/genres_original/pop/pop.00020.wav', './autodl-fs/Data/genres_original/pop/pop.00021.wav', './autodl-fs/Data/genres_original/pop/pop.00022.wav', './autodl-fs/Data/genres_original/pop/pop.00023.wav', './autodl-fs/Data/genres_original/pop/pop.00024.wav', './autodl-fs/Data/genres_original/pop/pop.00025.wav', './autodl-fs/Data/genres_original/pop/pop.00026.wav', './autodl-fs/Data/genres_original/pop/pop.00027.wav', './autodl-fs/Data/genres_original/pop/pop.00028.wav', './autodl-fs/Data/genres_original/pop/pop.00029.wav', './autodl-fs/Data/genres_original/pop/pop.00030.wav', './autodl-fs/Data/genres_original/pop/pop.00031.wav', './autodl-fs/Data/genres_original/pop/pop.00032.wav', './autodl-fs/Data/genres_original/pop/pop.00033.wav', './autodl-fs/Data/genres_original/pop/pop.00034.wav', './autodl-fs/Data/genres_original/pop/pop.00035.wav', './autodl-fs/Data/genres_original/pop/pop.00036.wav', './autodl-fs/Data/genres_original/pop/pop.00037.wav', './autodl-fs/Data/genres_original/pop/pop.00038.wav', './autodl-fs/Data/genres_original/pop/pop.00039.wav', './autodl-fs/Data/genres_original/pop/pop.00040.wav', './autodl-fs/Data/genres_original/pop/pop.00041.wav', './autodl-fs/Data/genres_original/pop/pop.00042.wav', './autodl-fs/Data/genres_original/pop/pop.00043.wav', './autodl-fs/Data/genres_original/pop/pop.00044.wav', './autodl-fs/Data/genres_original/pop/pop.00045.wav', './autodl-fs/Data/genres_original/pop/pop.00046.wav', './autodl-fs/Data/genres_original/pop/pop.00047.wav', './autodl-fs/Data/genres_original/pop/pop.00048.wav', './autodl-fs/Data/genres_original/pop/pop.00049.wav', './autodl-fs/Data/genres_original/pop/pop.00050.wav', './autodl-fs/Data/genres_original/pop/pop.00051.wav', './autodl-fs/Data/genres_original/pop/pop.00052.wav', './autodl-fs/Data/genres_original/pop/pop.00053.wav', './autodl-fs/Data/genres_original/pop/pop.00054.wav', './autodl-fs/Data/genres_original/pop/pop.00055.wav', './autodl-fs/Data/genres_original/pop/pop.00056.wav', './autodl-fs/Data/genres_original/pop/pop.00057.wav', './autodl-fs/Data/genres_original/pop/pop.00058.wav', './autodl-fs/Data/genres_original/pop/pop.00059.wav', './autodl-fs/Data/genres_original/pop/pop.00060.wav', './autodl-fs/Data/genres_original/pop/pop.00061.wav', './autodl-fs/Data/genres_original/pop/pop.00062.wav', './autodl-fs/Data/genres_original/pop/pop.00063.wav', './autodl-fs/Data/genres_original/pop/pop.00064.wav', './autodl-fs/Data/genres_original/pop/pop.00065.wav', './autodl-fs/Data/genres_original/pop/pop.00066.wav', './autodl-fs/Data/genres_original/pop/pop.00067.wav', './autodl-fs/Data/genres_original/pop/pop.00068.wav', './autodl-fs/Data/genres_original/pop/pop.00069.wav', './autodl-fs/Data/genres_original/pop/pop.00070.wav', './autodl-fs/Data/genres_original/pop/pop.00071.wav', './autodl-fs/Data/genres_original/pop/pop.00072.wav', './autodl-fs/Data/genres_original/pop/pop.00073.wav', './autodl-fs/Data/genres_original/pop/pop.00074.wav', './autodl-fs/Data/genres_original/pop/pop.00075.wav', './autodl-fs/Data/genres_original/pop/pop.00076.wav', './autodl-fs/Data/genres_original/pop/pop.00077.wav', './autodl-fs/Data/genres_original/pop/pop.00078.wav', './autodl-fs/Data/genres_original/pop/pop.00079.wav', './autodl-fs/Data/genres_original/pop/pop.00080.wav', './autodl-fs/Data/genres_original/pop/pop.00081.wav', './autodl-fs/Data/genres_original/pop/pop.00082.wav', './autodl-fs/Data/genres_original/pop/pop.00083.wav', './autodl-fs/Data/genres_original/pop/pop.00084.wav', './autodl-fs/Data/genres_original/pop/pop.00085.wav', './autodl-fs/Data/genres_original/pop/pop.00086.wav', './autodl-fs/Data/genres_original/pop/pop.00087.wav', './autodl-fs/Data/genres_original/pop/pop.00088.wav', './autodl-fs/Data/genres_original/pop/pop.00089.wav', './autodl-fs/Data/genres_original/pop/pop.00090.wav', './autodl-fs/Data/genres_original/pop/pop.00091.wav', './autodl-fs/Data/genres_original/pop/pop.00092.wav', './autodl-fs/Data/genres_original/pop/pop.00093.wav', './autodl-fs/Data/genres_original/pop/pop.00094.wav', './autodl-fs/Data/genres_original/pop/pop.00095.wav', './autodl-fs/Data/genres_original/pop/pop.00096.wav', './autodl-fs/Data/genres_original/pop/pop.00097.wav', './autodl-fs/Data/genres_original/pop/pop.00098.wav', './autodl-fs/Data/genres_original/pop/pop.00099.wav', './autodl-fs/Data/genres_original/reggae/reggae.00000.wav', './autodl-fs/Data/genres_original/reggae/reggae.00001.wav', './autodl-fs/Data/genres_original/reggae/reggae.00002.wav', './autodl-fs/Data/genres_original/reggae/reggae.00003.wav', './autodl-fs/Data/genres_original/reggae/reggae.00004.wav', './autodl-fs/Data/genres_original/reggae/reggae.00005.wav', './autodl-fs/Data/genres_original/reggae/reggae.00006.wav', './autodl-fs/Data/genres_original/reggae/reggae.00007.wav', './autodl-fs/Data/genres_original/reggae/reggae.00008.wav', './autodl-fs/Data/genres_original/reggae/reggae.00009.wav', './autodl-fs/Data/genres_original/reggae/reggae.00010.wav', './autodl-fs/Data/genres_original/reggae/reggae.00011.wav', './autodl-fs/Data/genres_original/reggae/reggae.00012.wav', './autodl-fs/Data/genres_original/reggae/reggae.00013.wav', './autodl-fs/Data/genres_original/reggae/reggae.00014.wav', './autodl-fs/Data/genres_original/reggae/reggae.00015.wav', './autodl-fs/Data/genres_original/reggae/reggae.00016.wav', './autodl-fs/Data/genres_original/reggae/reggae.00017.wav', './autodl-fs/Data/genres_original/reggae/reggae.00018.wav', './autodl-fs/Data/genres_original/reggae/reggae.00019.wav', './autodl-fs/Data/genres_original/reggae/reggae.00020.wav', './autodl-fs/Data/genres_original/reggae/reggae.00021.wav', './autodl-fs/Data/genres_original/reggae/reggae.00022.wav', './autodl-fs/Data/genres_original/reggae/reggae.00023.wav', './autodl-fs/Data/genres_original/reggae/reggae.00024.wav', './autodl-fs/Data/genres_original/reggae/reggae.00025.wav', './autodl-fs/Data/genres_original/reggae/reggae.00026.wav', './autodl-fs/Data/genres_original/reggae/reggae.00027.wav', './autodl-fs/Data/genres_original/reggae/reggae.00028.wav', './autodl-fs/Data/genres_original/reggae/reggae.00029.wav', './autodl-fs/Data/genres_original/reggae/reggae.00030.wav', './autodl-fs/Data/genres_original/reggae/reggae.00031.wav', './autodl-fs/Data/genres_original/reggae/reggae.00032.wav', './autodl-fs/Data/genres_original/reggae/reggae.00033.wav', './autodl-fs/Data/genres_original/reggae/reggae.00034.wav', './autodl-fs/Data/genres_original/reggae/reggae.00035.wav', './autodl-fs/Data/genres_original/reggae/reggae.00036.wav', './autodl-fs/Data/genres_original/reggae/reggae.00037.wav', './autodl-fs/Data/genres_original/reggae/reggae.00038.wav', './autodl-fs/Data/genres_original/reggae/reggae.00039.wav', './autodl-fs/Data/genres_original/reggae/reggae.00040.wav', './autodl-fs/Data/genres_original/reggae/reggae.00041.wav', './autodl-fs/Data/genres_original/reggae/reggae.00042.wav', './autodl-fs/Data/genres_original/reggae/reggae.00043.wav', './autodl-fs/Data/genres_original/reggae/reggae.00044.wav', './autodl-fs/Data/genres_original/reggae/reggae.00045.wav', './autodl-fs/Data/genres_original/reggae/reggae.00046.wav', './autodl-fs/Data/genres_original/reggae/reggae.00047.wav', './autodl-fs/Data/genres_original/reggae/reggae.00048.wav', './autodl-fs/Data/genres_original/reggae/reggae.00049.wav', './autodl-fs/Data/genres_original/reggae/reggae.00050.wav', './autodl-fs/Data/genres_original/reggae/reggae.00051.wav', './autodl-fs/Data/genres_original/reggae/reggae.00052.wav', './autodl-fs/Data/genres_original/reggae/reggae.00053.wav', './autodl-fs/Data/genres_original/reggae/reggae.00054.wav', './autodl-fs/Data/genres_original/reggae/reggae.00055.wav', './autodl-fs/Data/genres_original/reggae/reggae.00056.wav', './autodl-fs/Data/genres_original/reggae/reggae.00057.wav', './autodl-fs/Data/genres_original/reggae/reggae.00058.wav', './autodl-fs/Data/genres_original/reggae/reggae.00059.wav', './autodl-fs/Data/genres_original/reggae/reggae.00060.wav', './autodl-fs/Data/genres_original/reggae/reggae.00061.wav', './autodl-fs/Data/genres_original/reggae/reggae.00062.wav', './autodl-fs/Data/genres_original/reggae/reggae.00063.wav', './autodl-fs/Data/genres_original/reggae/reggae.00064.wav', './autodl-fs/Data/genres_original/reggae/reggae.00065.wav', './autodl-fs/Data/genres_original/reggae/reggae.00066.wav', './autodl-fs/Data/genres_original/reggae/reggae.00067.wav', './autodl-fs/Data/genres_original/reggae/reggae.00068.wav', './autodl-fs/Data/genres_original/reggae/reggae.00069.wav', './autodl-fs/Data/genres_original/reggae/reggae.00070.wav', './autodl-fs/Data/genres_original/reggae/reggae.00071.wav', './autodl-fs/Data/genres_original/reggae/reggae.00072.wav', './autodl-fs/Data/genres_original/reggae/reggae.00073.wav', './autodl-fs/Data/genres_original/reggae/reggae.00074.wav', './autodl-fs/Data/genres_original/reggae/reggae.00075.wav', './autodl-fs/Data/genres_original/reggae/reggae.00076.wav', './autodl-fs/Data/genres_original/reggae/reggae.00077.wav', './autodl-fs/Data/genres_original/reggae/reggae.00078.wav', './autodl-fs/Data/genres_original/reggae/reggae.00079.wav', './autodl-fs/Data/genres_original/reggae/reggae.00080.wav', './autodl-fs/Data/genres_original/reggae/reggae.00081.wav', './autodl-fs/Data/genres_original/reggae/reggae.00082.wav', './autodl-fs/Data/genres_original/reggae/reggae.00083.wav', './autodl-fs/Data/genres_original/reggae/reggae.00084.wav', './autodl-fs/Data/genres_original/reggae/reggae.00085.wav', './autodl-fs/Data/genres_original/reggae/reggae.00086.wav', './autodl-fs/Data/genres_original/reggae/reggae.00087.wav', './autodl-fs/Data/genres_original/reggae/reggae.00088.wav', './autodl-fs/Data/genres_original/reggae/reggae.00089.wav', './autodl-fs/Data/genres_original/reggae/reggae.00090.wav', './autodl-fs/Data/genres_original/reggae/reggae.00091.wav', './autodl-fs/Data/genres_original/reggae/reggae.00092.wav', './autodl-fs/Data/genres_original/reggae/reggae.00093.wav', './autodl-fs/Data/genres_original/reggae/reggae.00094.wav', './autodl-fs/Data/genres_original/reggae/reggae.00095.wav', './autodl-fs/Data/genres_original/reggae/reggae.00096.wav', './autodl-fs/Data/genres_original/reggae/reggae.00097.wav', './autodl-fs/Data/genres_original/reggae/reggae.00098.wav', './autodl-fs/Data/genres_original/reggae/reggae.00099.wav', './autodl-fs/Data/genres_original/rock/rock.00000.wav', './autodl-fs/Data/genres_original/rock/rock.00001.wav', './autodl-fs/Data/genres_original/rock/rock.00002.wav', './autodl-fs/Data/genres_original/rock/rock.00003.wav', './autodl-fs/Data/genres_original/rock/rock.00004.wav', './autodl-fs/Data/genres_original/rock/rock.00005.wav', './autodl-fs/Data/genres_original/rock/rock.00006.wav', './autodl-fs/Data/genres_original/rock/rock.00007.wav', './autodl-fs/Data/genres_original/rock/rock.00008.wav', './autodl-fs/Data/genres_original/rock/rock.00009.wav', './autodl-fs/Data/genres_original/rock/rock.00010.wav', './autodl-fs/Data/genres_original/rock/rock.00011.wav', './autodl-fs/Data/genres_original/rock/rock.00012.wav', './autodl-fs/Data/genres_original/rock/rock.00013.wav', './autodl-fs/Data/genres_original/rock/rock.00014.wav', './autodl-fs/Data/genres_original/rock/rock.00015.wav', './autodl-fs/Data/genres_original/rock/rock.00016.wav', './autodl-fs/Data/genres_original/rock/rock.00017.wav', './autodl-fs/Data/genres_original/rock/rock.00018.wav', './autodl-fs/Data/genres_original/rock/rock.00019.wav', './autodl-fs/Data/genres_original/rock/rock.00020.wav', './autodl-fs/Data/genres_original/rock/rock.00021.wav', './autodl-fs/Data/genres_original/rock/rock.00022.wav', './autodl-fs/Data/genres_original/rock/rock.00023.wav', './autodl-fs/Data/genres_original/rock/rock.00024.wav', './autodl-fs/Data/genres_original/rock/rock.00025.wav', './autodl-fs/Data/genres_original/rock/rock.00026.wav', './autodl-fs/Data/genres_original/rock/rock.00027.wav', './autodl-fs/Data/genres_original/rock/rock.00028.wav', './autodl-fs/Data/genres_original/rock/rock.00029.wav', './autodl-fs/Data/genres_original/rock/rock.00030.wav', './autodl-fs/Data/genres_original/rock/rock.00031.wav', './autodl-fs/Data/genres_original/rock/rock.00032.wav', './autodl-fs/Data/genres_original/rock/rock.00033.wav', './autodl-fs/Data/genres_original/rock/rock.00034.wav', './autodl-fs/Data/genres_original/rock/rock.00035.wav', './autodl-fs/Data/genres_original/rock/rock.00036.wav', './autodl-fs/Data/genres_original/rock/rock.00037.wav', './autodl-fs/Data/genres_original/rock/rock.00038.wav', './autodl-fs/Data/genres_original/rock/rock.00039.wav', './autodl-fs/Data/genres_original/rock/rock.00040.wav', './autodl-fs/Data/genres_original/rock/rock.00041.wav', './autodl-fs/Data/genres_original/rock/rock.00042.wav', './autodl-fs/Data/genres_original/rock/rock.00043.wav', './autodl-fs/Data/genres_original/rock/rock.00044.wav', './autodl-fs/Data/genres_original/rock/rock.00045.wav', './autodl-fs/Data/genres_original/rock/rock.00046.wav', './autodl-fs/Data/genres_original/rock/rock.00047.wav', './autodl-fs/Data/genres_original/rock/rock.00048.wav', './autodl-fs/Data/genres_original/rock/rock.00049.wav', './autodl-fs/Data/genres_original/rock/rock.00050.wav', './autodl-fs/Data/genres_original/rock/rock.00051.wav', './autodl-fs/Data/genres_original/rock/rock.00052.wav', './autodl-fs/Data/genres_original/rock/rock.00053.wav', './autodl-fs/Data/genres_original/rock/rock.00054.wav', './autodl-fs/Data/genres_original/rock/rock.00055.wav', './autodl-fs/Data/genres_original/rock/rock.00056.wav', './autodl-fs/Data/genres_original/rock/rock.00057.wav', './autodl-fs/Data/genres_original/rock/rock.00058.wav', './autodl-fs/Data/genres_original/rock/rock.00059.wav', './autodl-fs/Data/genres_original/rock/rock.00060.wav', './autodl-fs/Data/genres_original/rock/rock.00061.wav', './autodl-fs/Data/genres_original/rock/rock.00062.wav', './autodl-fs/Data/genres_original/rock/rock.00063.wav', './autodl-fs/Data/genres_original/rock/rock.00064.wav', './autodl-fs/Data/genres_original/rock/rock.00065.wav', './autodl-fs/Data/genres_original/rock/rock.00066.wav', './autodl-fs/Data/genres_original/rock/rock.00067.wav', './autodl-fs/Data/genres_original/rock/rock.00068.wav', './autodl-fs/Data/genres_original/rock/rock.00069.wav', './autodl-fs/Data/genres_original/rock/rock.00070.wav', './autodl-fs/Data/genres_original/rock/rock.00071.wav', './autodl-fs/Data/genres_original/rock/rock.00072.wav', './autodl-fs/Data/genres_original/rock/rock.00073.wav', './autodl-fs/Data/genres_original/rock/rock.00074.wav', './autodl-fs/Data/genres_original/rock/rock.00075.wav', './autodl-fs/Data/genres_original/rock/rock.00076.wav', './autodl-fs/Data/genres_original/rock/rock.00077.wav', './autodl-fs/Data/genres_original/rock/rock.00078.wav', './autodl-fs/Data/genres_original/rock/rock.00079.wav', './autodl-fs/Data/genres_original/rock/rock.00080.wav', './autodl-fs/Data/genres_original/rock/rock.00081.wav', './autodl-fs/Data/genres_original/rock/rock.00082.wav', './autodl-fs/Data/genres_original/rock/rock.00083.wav', './autodl-fs/Data/genres_original/rock/rock.00084.wav', './autodl-fs/Data/genres_original/rock/rock.00085.wav', './autodl-fs/Data/genres_original/rock/rock.00086.wav', './autodl-fs/Data/genres_original/rock/rock.00087.wav', './autodl-fs/Data/genres_original/rock/rock.00088.wav', './autodl-fs/Data/genres_original/rock/rock.00089.wav', './autodl-fs/Data/genres_original/rock/rock.00090.wav', './autodl-fs/Data/genres_original/rock/rock.00091.wav', './autodl-fs/Data/genres_original/rock/rock.00092.wav', './autodl-fs/Data/genres_original/rock/rock.00093.wav', './autodl-fs/Data/genres_original/rock/rock.00094.wav', './autodl-fs/Data/genres_original/rock/rock.00095.wav', './autodl-fs/Data/genres_original/rock/rock.00096.wav', './autodl-fs/Data/genres_original/rock/rock.00097.wav', './autodl-fs/Data/genres_original/rock/rock.00098.wav', './autodl-fs/Data/genres_original/rock/rock.00099.wav']\n",
      "[0, 0, 0, 0, 0, 0, 0, 0, 0, 0, 0, 0, 0, 0, 0, 0, 0, 0, 0, 0, 0, 0, 0, 0, 0, 0, 0, 0, 0, 0, 0, 0, 0, 0, 0, 0, 0, 0, 0, 0, 0, 0, 0, 0, 0, 0, 0, 0, 0, 0, 0, 0, 0, 0, 0, 0, 0, 0, 0, 0, 0, 0, 0, 0, 0, 0, 0, 0, 0, 0, 0, 0, 0, 0, 0, 0, 0, 0, 0, 0, 0, 0, 0, 0, 0, 0, 0, 0, 0, 0, 0, 0, 0, 0, 0, 0, 0, 0, 0, 0, 1, 1, 1, 1, 1, 1, 1, 1, 1, 1, 1, 1, 1, 1, 1, 1, 1, 1, 1, 1, 1, 1, 1, 1, 1, 1, 1, 1, 1, 1, 1, 1, 1, 1, 1, 1, 1, 1, 1, 1, 1, 1, 1, 1, 1, 1, 1, 1, 1, 1, 1, 1, 1, 1, 1, 1, 1, 1, 1, 1, 1, 1, 1, 1, 1, 1, 1, 1, 1, 1, 1, 1, 1, 1, 1, 1, 1, 1, 1, 1, 1, 1, 1, 1, 1, 1, 1, 1, 1, 1, 1, 1, 1, 1, 1, 1, 1, 1, 1, 1, 2, 2, 2, 2, 2, 2, 2, 2, 2, 2, 2, 2, 2, 2, 2, 2, 2, 2, 2, 2, 2, 2, 2, 2, 2, 2, 2, 2, 2, 2, 2, 2, 2, 2, 2, 2, 2, 2, 2, 2, 2, 2, 2, 2, 2, 2, 2, 2, 2, 2, 2, 2, 2, 2, 2, 2, 2, 2, 2, 2, 2, 2, 2, 2, 2, 2, 2, 2, 2, 2, 2, 2, 2, 2, 2, 2, 2, 2, 2, 2, 2, 2, 2, 2, 2, 2, 2, 2, 2, 2, 2, 2, 2, 2, 2, 2, 2, 2, 2, 2, 3, 3, 3, 3, 3, 3, 3, 3, 3, 3, 3, 3, 3, 3, 3, 3, 3, 3, 3, 3, 3, 3, 3, 3, 3, 3, 3, 3, 3, 3, 3, 3, 3, 3, 3, 3, 3, 3, 3, 3, 3, 3, 3, 3, 3, 3, 3, 3, 3, 3, 3, 3, 3, 3, 3, 3, 3, 3, 3, 3, 3, 3, 3, 3, 3, 3, 3, 3, 3, 3, 3, 3, 3, 3, 3, 3, 3, 3, 3, 3, 3, 3, 3, 3, 3, 3, 3, 3, 3, 3, 3, 3, 3, 3, 3, 3, 3, 3, 3, 3, 4, 4, 4, 4, 4, 4, 4, 4, 4, 4, 4, 4, 4, 4, 4, 4, 4, 4, 4, 4, 4, 4, 4, 4, 4, 4, 4, 4, 4, 4, 4, 4, 4, 4, 4, 4, 4, 4, 4, 4, 4, 4, 4, 4, 4, 4, 4, 4, 4, 4, 4, 4, 4, 4, 4, 4, 4, 4, 4, 4, 4, 4, 4, 4, 4, 4, 4, 4, 4, 4, 4, 4, 4, 4, 4, 4, 4, 4, 4, 4, 4, 4, 4, 4, 4, 4, 4, 4, 4, 4, 4, 4, 4, 4, 4, 4, 4, 4, 4, 4, 5, 5, 5, 5, 5, 5, 5, 5, 5, 5, 5, 5, 5, 5, 5, 5, 5, 5, 5, 5, 5, 5, 5, 5, 5, 5, 5, 5, 5, 5, 5, 5, 5, 5, 5, 5, 5, 5, 5, 5, 5, 5, 5, 5, 5, 5, 5, 5, 5, 5, 5, 5, 5, 5, 5, 5, 5, 5, 5, 5, 5, 5, 5, 5, 5, 5, 5, 5, 5, 5, 5, 5, 5, 5, 5, 5, 5, 5, 5, 5, 5, 5, 5, 5, 5, 5, 5, 5, 5, 5, 5, 5, 5, 5, 5, 5, 5, 5, 5, 6, 6, 6, 6, 6, 6, 6, 6, 6, 6, 6, 6, 6, 6, 6, 6, 6, 6, 6, 6, 6, 6, 6, 6, 6, 6, 6, 6, 6, 6, 6, 6, 6, 6, 6, 6, 6, 6, 6, 6, 6, 6, 6, 6, 6, 6, 6, 6, 6, 6, 6, 6, 6, 6, 6, 6, 6, 6, 6, 6, 6, 6, 6, 6, 6, 6, 6, 6, 6, 6, 6, 6, 6, 6, 6, 6, 6, 6, 6, 6, 6, 6, 6, 6, 6, 6, 6, 6, 6, 6, 6, 6, 6, 6, 6, 6, 6, 6, 6, 6, 7, 7, 7, 7, 7, 7, 7, 7, 7, 7, 7, 7, 7, 7, 7, 7, 7, 7, 7, 7, 7, 7, 7, 7, 7, 7, 7, 7, 7, 7, 7, 7, 7, 7, 7, 7, 7, 7, 7, 7, 7, 7, 7, 7, 7, 7, 7, 7, 7, 7, 7, 7, 7, 7, 7, 7, 7, 7, 7, 7, 7, 7, 7, 7, 7, 7, 7, 7, 7, 7, 7, 7, 7, 7, 7, 7, 7, 7, 7, 7, 7, 7, 7, 7, 7, 7, 7, 7, 7, 7, 7, 7, 7, 7, 7, 7, 7, 7, 7, 7, 8, 8, 8, 8, 8, 8, 8, 8, 8, 8, 8, 8, 8, 8, 8, 8, 8, 8, 8, 8, 8, 8, 8, 8, 8, 8, 8, 8, 8, 8, 8, 8, 8, 8, 8, 8, 8, 8, 8, 8, 8, 8, 8, 8, 8, 8, 8, 8, 8, 8, 8, 8, 8, 8, 8, 8, 8, 8, 8, 8, 8, 8, 8, 8, 8, 8, 8, 8, 8, 8, 8, 8, 8, 8, 8, 8, 8, 8, 8, 8, 8, 8, 8, 8, 8, 8, 8, 8, 8, 8, 8, 8, 8, 8, 8, 8, 8, 8, 8, 8, 9, 9, 9, 9, 9, 9, 9, 9, 9, 9, 9, 9, 9, 9, 9, 9, 9, 9, 9, 9, 9, 9, 9, 9, 9, 9, 9, 9, 9, 9, 9, 9, 9, 9, 9, 9, 9, 9, 9, 9, 9, 9, 9, 9, 9, 9, 9, 9, 9, 9, 9, 9, 9, 9, 9, 9, 9, 9, 9, 9, 9, 9, 9, 9, 9, 9, 9, 9, 9, 9, 9, 9, 9, 9, 9, 9, 9, 9, 9, 9, 9, 9, 9, 9, 9, 9, 9, 9, 9, 9, 9, 9, 9, 9, 9, 9, 9, 9, 9, 9]\n"
     ]
    }
   ],
   "source": [
    "file_paths = []\n",
    "labels = []\n",
    "\n",
    "for i , genre in enumerate(genres):\n",
    "    genre_dir = os.path.join(data_dir, genre)\n",
    "    cnt = 0\n",
    "    for file in os.listdir(genre_dir):\n",
    "        if file.endswith('.wav') and file != 'jazz.00054.wav':\n",
    "            file_paths.append(os.path.join(genre_dir, file))\n",
    "            labels.append(i)\n",
    "            cnt += 1\n",
    "    print(\"{} cnt: {}\".format(genre, cnt))\n",
    "print(file_paths)\n",
    "print(labels)"
   ]
  },
  {
   "cell_type": "code",
   "execution_count": 6,
   "metadata": {},
   "outputs": [
    {
     "data": {
      "text/plain": [
       "999"
      ]
     },
     "execution_count": 6,
     "metadata": {},
     "output_type": "execute_result"
    }
   ],
   "source": [
    "len(file_paths)"
   ]
  },
  {
   "cell_type": "code",
   "execution_count": 7,
   "metadata": {},
   "outputs": [],
   "source": [
    "train_files, test_files, train_labels, test_labels = train_test_split(file_paths, labels, test_size=0.2, stratify=labels, random_state=42)"
   ]
  },
  {
   "cell_type": "code",
   "execution_count": 8,
   "metadata": {},
   "outputs": [],
   "source": [
    "class SpecAugment:\n",
    "    def __call__(self, spec):\n",
    "        spec = torch.tensor(spec)\n",
    "        \n",
    "        if spec.dim() == 2:\n",
    "            spec = spec.unsqueeze(0)\n",
    "        \n",
    "        freq_mask = torchaudio.transforms.FrequencyMasking(freq_mask_param=15)\n",
    "        time_mask = torchaudio.transforms.TimeMasking(time_mask_param=35)\n",
    "        spec = freq_mask(spec)\n",
    "        spec = time_mask(spec)\n",
    "        return spec\n",
    "    \n",
    "train_transform = transforms.Compose([\n",
    "    SpecAugment(),\n",
    "    transforms.Normalize((0.5,), (0.5,))\n",
    "])\n",
    "\n",
    "test_transform = transforms.Compose([\n",
    "    transforms.ToTensor(),\n",
    "    transforms.Normalize((0.5,), (0.5,))\n",
    "])"
   ]
  },
  {
   "cell_type": "code",
   "execution_count": 9,
   "metadata": {},
   "outputs": [
    {
     "name": "stderr",
     "output_type": "stream",
     "text": [
      "/root/miniconda3/lib/python3.12/site-packages/torchvision/models/_utils.py:208: UserWarning: The parameter 'pretrained' is deprecated since 0.13 and may be removed in the future, please use 'weights' instead.\n",
      "  warnings.warn(\n",
      "/root/miniconda3/lib/python3.12/site-packages/torchvision/models/_utils.py:223: UserWarning: Arguments other than a weight enum or `None` for 'weights' are deprecated since 0.13 and may be removed in the future. The current behavior is equivalent to passing `weights=VGG16_Weights.IMAGENET1K_V1`. You can also use `weights=VGG16_Weights.DEFAULT` to get the most up-to-date weights.\n",
      "  warnings.warn(msg)\n"
     ]
    }
   ],
   "source": [
    "train_dataset = GTZANDataset(train_files, train_labels, transform=train_transform)\n",
    "test_dataset = GTZANDataset(test_files, test_labels, transform=test_transform)\n",
    "\n",
    "train_loader = DataLoader(train_dataset, batch_size=32, shuffle=True, num_workers=2)\n",
    "test_loader = DataLoader(test_dataset, batch_size=32, shuffle=False)\n",
    "\n",
    "model = models.vgg16(pretrained=True)\n",
    "\n",
    "model.features[0] = nn.Conv2d(1, 64, kernel_size=(3, 3), stride=(1, 1), padding=(1, 1))\n",
    "model.classifier[6] = nn.Linear(4096, 10)\n",
    "\n",
    "device = torch.device('cuda' if torch.cuda.is_available() else 'cpu')\n",
    "model = model.to(device)\n",
    "\n",
    "criterion = nn.CrossEntropyLoss()\n",
    "optimizer = optim.AdamW(model.parameters(), lr=0.0001)"
   ]
  },
  {
   "cell_type": "code",
   "execution_count": 10,
   "metadata": {},
   "outputs": [],
   "source": [
    "def train(model, train_loader, criterion, optimizer, epochs=10):\n",
    "    model.train()\n",
    "    \n",
    "    for epoch in range(epochs):\n",
    "        running_loss = 0.0\n",
    "        for inputs, labels in train_loader:\n",
    "            inputs = inputs.to(device, dtype=torch.float)\n",
    "            labels = labels.to(device)\n",
    "\n",
    "            outputs = model(inputs)\n",
    "            loss = criterion(outputs, labels)\n",
    "\n",
    "            optimizer.zero_grad()\n",
    "            loss.backward()\n",
    "            optimizer.step()\n",
    "            running_loss += loss.item()\n",
    "        epoch_loss = running_loss / len(train_loader)\n",
    "        print(f'Epoch {epoch+1}/{epochs}, Loss: {epoch_loss:.4f}')\n",
    "    torch.save(model.state_dict(), 'model.pth')"
   ]
  },
  {
   "cell_type": "code",
   "execution_count": 11,
   "metadata": {
    "scrolled": true
   },
   "outputs": [
    {
     "name": "stdout",
     "output_type": "stream",
     "text": [
      "Epoch 1/50, Loss: 2.5098\n",
      "Epoch 2/50, Loss: 2.1017\n",
      "Epoch 3/50, Loss: 2.1207\n",
      "Epoch 4/50, Loss: 1.7675\n",
      "Epoch 5/50, Loss: 1.5928\n",
      "Epoch 6/50, Loss: 1.3540\n",
      "Epoch 7/50, Loss: 1.1942\n",
      "Epoch 8/50, Loss: 1.1210\n",
      "Epoch 9/50, Loss: 1.0657\n",
      "Epoch 10/50, Loss: 0.8919\n",
      "Epoch 11/50, Loss: 0.8682\n",
      "Epoch 12/50, Loss: 0.8414\n",
      "Epoch 13/50, Loss: 0.8259\n",
      "Epoch 14/50, Loss: 0.6939\n",
      "Epoch 15/50, Loss: 0.5482\n",
      "Epoch 16/50, Loss: 0.5576\n",
      "Epoch 17/50, Loss: 0.4414\n",
      "Epoch 18/50, Loss: 0.5751\n",
      "Epoch 19/50, Loss: 0.5096\n",
      "Epoch 20/50, Loss: 0.3284\n",
      "Epoch 21/50, Loss: 0.3147\n",
      "Epoch 22/50, Loss: 0.3039\n",
      "Epoch 23/50, Loss: 0.2704\n",
      "Epoch 24/50, Loss: 0.2897\n",
      "Epoch 25/50, Loss: 0.1804\n",
      "Epoch 26/50, Loss: 0.1756\n",
      "Epoch 27/50, Loss: 0.2031\n",
      "Epoch 28/50, Loss: 0.2393\n",
      "Epoch 29/50, Loss: 0.1937\n",
      "Epoch 30/50, Loss: 0.1333\n",
      "Epoch 31/50, Loss: 0.1566\n",
      "Epoch 32/50, Loss: 0.1615\n",
      "Epoch 33/50, Loss: 0.2077\n",
      "Epoch 34/50, Loss: 0.1355\n",
      "Epoch 35/50, Loss: 0.1343\n",
      "Epoch 36/50, Loss: 0.1164\n",
      "Epoch 37/50, Loss: 0.0845\n",
      "Epoch 38/50, Loss: 0.1010\n",
      "Epoch 39/50, Loss: 0.2005\n",
      "Epoch 40/50, Loss: 0.1500\n",
      "Epoch 41/50, Loss: 0.3786\n",
      "Epoch 42/50, Loss: 0.2042\n",
      "Epoch 43/50, Loss: 0.1125\n",
      "Epoch 44/50, Loss: 0.0407\n",
      "Epoch 45/50, Loss: 0.0509\n",
      "Epoch 46/50, Loss: 0.0859\n",
      "Epoch 47/50, Loss: 0.0840\n",
      "Epoch 48/50, Loss: 0.1122\n",
      "Epoch 49/50, Loss: 0.1282\n",
      "Epoch 50/50, Loss: 0.1170\n"
     ]
    }
   ],
   "source": [
    "train(model, train_loader, criterion, optimizer, epochs=50)"
   ]
  },
  {
   "cell_type": "code",
   "execution_count": 12,
   "metadata": {},
   "outputs": [
    {
     "name": "stderr",
     "output_type": "stream",
     "text": [
      "/root/miniconda3/lib/python3.12/site-packages/torchvision/models/_utils.py:223: UserWarning: Arguments other than a weight enum or `None` for 'weights' are deprecated since 0.13 and may be removed in the future. The current behavior is equivalent to passing `weights=None`.\n",
      "  warnings.warn(msg)\n",
      "/tmp/ipykernel_13410/470258159.py:4: FutureWarning: You are using `torch.load` with `weights_only=False` (the current default value), which uses the default pickle module implicitly. It is possible to construct malicious pickle data which will execute arbitrary code during unpickling (See https://github.com/pytorch/pytorch/blob/main/SECURITY.md#untrusted-models for more details). In a future release, the default value for `weights_only` will be flipped to `True`. This limits the functions that could be executed during unpickling. Arbitrary objects will no longer be allowed to be loaded via this mode unless they are explicitly allowlisted by the user via `torch.serialization.add_safe_globals`. We recommend you start setting `weights_only=True` for any use case where you don't have full control of the loaded file. Please open an issue on GitHub for any issues related to this experimental feature.\n",
      "  model.load_state_dict(torch.load('model.pth'))\n"
     ]
    },
    {
     "name": "stdout",
     "output_type": "stream",
     "text": [
      "Classification Report: \n",
      "              precision    recall  f1-score   support\n",
      "\n",
      "       blues       0.69      0.55      0.61        20\n",
      "   classical       0.95      1.00      0.98        20\n",
      "     country       0.60      0.75      0.67        20\n",
      "       disco       1.00      0.40      0.57        20\n",
      "      hiphop       0.75      0.90      0.82        20\n",
      "        jazz       0.67      0.80      0.73        20\n",
      "       metal       0.90      0.95      0.93        20\n",
      "         pop       0.68      0.85      0.76        20\n",
      "      reggae       0.63      0.85      0.72        20\n",
      "        rock       0.67      0.30      0.41        20\n",
      "\n",
      "    accuracy                           0.73       200\n",
      "   macro avg       0.75      0.73      0.72       200\n",
      "weighted avg       0.75      0.73      0.72       200\n",
      "\n",
      "Confusion Matrix: \n",
      "[[11  0  1  0  0  4  0  0  4  0]\n",
      " [ 0 20  0  0  0  0  0  0  0  0]\n",
      " [ 2  0 15  0  0  1  0  1  0  1]\n",
      " [ 0  0  2  8  3  1  0  4  1  1]\n",
      " [ 0  0  0  0 18  0  0  0  2  0]\n",
      " [ 2  0  1  0  0 16  0  0  0  1]\n",
      " [ 0  0  0  0  1  0 19  0  0  0]\n",
      " [ 0  0  2  0  0  0  0 17  1  0]\n",
      " [ 0  0  1  0  1  0  0  1 17  0]\n",
      " [ 1  1  3  0  1  2  2  2  2  6]]\n"
     ]
    }
   ],
   "source": [
    "model = models.vgg16(pretrained=False)\n",
    "model.features[0] = nn.Conv2d(1, 64, kernel_size=3, stride=1, padding=1)\n",
    "model.classifier[6] = nn.Linear(4096, 10)\n",
    "model.load_state_dict(torch.load('model.pth'))\n",
    "model.to(device)\n",
    "\n",
    "def evaluate(model, test_loader):\n",
    "    model.eval()\n",
    "    outputs = []\n",
    "    targets = []\n",
    "    \n",
    "    with torch.no_grad():\n",
    "        for inputs, labels in test_loader:\n",
    "            inputs = inputs.to(device, dtype=torch.float)\n",
    "            labels = labels.to(device)\n",
    "            output = model(inputs)\n",
    "            _, preds = torch.max(output, 1)\n",
    "            outputs.extend(preds.cpu().numpy())\n",
    "            targets.extend(labels.cpu().numpy())\n",
    "    print(\"Classification Report: \")\n",
    "    print(classification_report(targets, outputs, target_names=genres))\n",
    "    print(\"Confusion Matrix: \")\n",
    "    print(confusion_matrix(targets, outputs))\n",
    "\n",
    "evaluate(model, test_loader)"
   ]
  },
  {
   "cell_type": "code",
   "execution_count": null,
   "metadata": {},
   "outputs": [],
   "source": []
  }
 ],
 "metadata": {
  "kernelspec": {
   "display_name": "Python 3 (ipykernel)",
   "language": "python",
   "name": "python3"
  },
  "language_info": {
   "codemirror_mode": {
    "name": "ipython",
    "version": 3
   },
   "file_extension": ".py",
   "mimetype": "text/x-python",
   "name": "python",
   "nbconvert_exporter": "python",
   "pygments_lexer": "ipython3",
   "version": "3.12.3"
  }
 },
 "nbformat": 4,
 "nbformat_minor": 4
}
